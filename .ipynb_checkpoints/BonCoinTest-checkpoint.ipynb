{
 "cells": [
  {
   "cell_type": "code",
   "execution_count": 37,
   "metadata": {
    "collapsed": false
   },
   "outputs": [
    {
     "ename": "IndentationError",
     "evalue": "unexpected indent (<ipython-input-37-2661b5a61b8c>, line 18)",
     "output_type": "error",
     "traceback": [
      "\u001b[1;36m  File \u001b[1;32m\"<ipython-input-37-2661b5a61b8c>\"\u001b[1;36m, line \u001b[1;32m18\u001b[0m\n\u001b[1;33m    post['post_city'], post['post_zip'] = get_adress(soup,\"span\", {\"class\": \"value\", \"itemprop\": \"address\"})\u001b[0m\n\u001b[1;37m    ^\u001b[0m\n\u001b[1;31mIndentationError\u001b[0m\u001b[1;31m:\u001b[0m unexpected indent\n"
     ]
    }
   ],
   "source": [
    "import urllib2\n",
    "from bs4 import BeautifulSoup\n",
    "import re\n",
    "\n",
    "def get_post_data(url):\n",
    "    html = urllib2.urlopen(url).read()\n",
    "    soup = BeautifulSoup(html)\n",
    "\n",
    "    post = {}\n",
    "\n",
    "    post['post_title'] = get_text( soup,\"h1\",{\"class\": \"no-border\"})\n",
    "    post['post_url'] = url\n",
    "    post['post_description'] = get_text(soup, \"p\", {\"class\": \"value\"})\n",
    "    post['post_images'] = \"\"\n",
    "    post['post_date'] = get_text(soup, \"p\", {\"class\": \"line line_pro\"})\n",
    "    post['post_price'] = get_price(soup, \"span\", {\"class\": \"value\"})\n",
    "    post['post_author'] = get_text(soup, \"p\", {\"class\": \"title\"})\n",
    "    post['post_city'], post['post_zip'] = get_adress(soup,\"span\", {\"class\": \"value\", \"itemprop\": \"address\"})\n",
    "    post['post_email_sent'] = False\n",
    "    print post\n",
    "    \n",
    "\n",
    "\n",
    "def get_text(soup,tag,subtags):\n",
    "    element = soup.findAll(tag, subtags)[0]\n",
    "    text = element.get_text().encode('utf-8').lstrip().rstrip()\n",
    "    print text\n",
    "    return text\n",
    "\n",
    "\n",
    "def get_price(soup, tag, subtags):\n",
    "    text = clean(soup, tag, subtags)\n",
    "    price = re.sub(\"[^0-9]\", \"\", text)\n",
    "    return int(price)\n",
    "\n",
    "def get_adress(soup,tag,subtags):\n",
    "    text = clean(soup, tag, subtags)\n",
    "    city, zip_code = text.split(' ')\n",
    "    return city,zip_code\n",
    "\n",
    "\n",
    "    \n",
    "get_post_data('https://www.leboncoin.fr/montres_bijoux/992541077.htm?ca=12_s')\n"
   ]
  }
 ],
 "metadata": {
  "kernelspec": {
   "display_name": "Python 2",
   "language": "python",
   "name": "python2"
  },
  "language_info": {
   "codemirror_mode": {
    "name": "ipython",
    "version": 2
   },
   "file_extension": ".py",
   "mimetype": "text/x-python",
   "name": "python",
   "nbconvert_exporter": "python",
   "pygments_lexer": "ipython2",
   "version": "2.7.11"
  }
 },
 "nbformat": 4,
 "nbformat_minor": 0
}
