{
 "cells": [
  {
   "cell_type": "code",
   "execution_count": 1,
   "metadata": {
    "collapsed": false
   },
   "outputs": [
    {
     "ename": "IndentationError",
     "evalue": "expected an indented block (<ipython-input-1-1befa91a62f6>, line 13)",
     "output_type": "error",
     "traceback": [
      "\u001b[1;36m  File \u001b[1;32m\"<ipython-input-1-1befa91a62f6>\"\u001b[1;36m, line \u001b[1;32m13\u001b[0m\n\u001b[1;33m    data = request.read()\u001b[0m\n\u001b[1;37m       ^\u001b[0m\n\u001b[1;31mIndentationError\u001b[0m\u001b[1;31m:\u001b[0m expected an indented block\n"
     ]
    }
   ],
   "source": [
    "import urllib2\n",
    "import re\n",
    "from datetime import datetime\n",
    "\n",
    "from bs4 import BeautifulSoup\n",
    "from requests.utils import quote\n",
    "\n",
    "request = urllib2.urlopen(\"https://www.leboncoin.fr/annonces/offres/ile_de_france/occasions/?q=lecoultre%20chronom%C3%A8tre&it=1\")\n",
    "\n",
    "response = \"\"\n",
    "charset = \"windows-1252\"\n",
    "while 1:\n",
    "    data = request.read()\n",
    "    if not data:  # This might need to be    if data == \"\":   -- can't remember\n",
    "        break\n",
    "    response += data\n",
    "    # Check the encoding of the page before reading it\n",
    "    charset = request.headers['content-type'].split('charset=')[-1]\n",
    "\n",
    "html = response.decode(charset)\n",
    "print html\n",
    "\n",
    "print \"{0} : response length:{1}\".format(agent.keywords.encode('utf-8'), len(response))\n",
    "soup = BeautifulSoup(html, \"html5lib\")\n",
    "\n",
    "post_raw = []\n",
    "if posts_exists(soup):\n",
    "    posts = soup.findAll(\"section\", {\"class\": \"tabsContent block-white dontSwitch\"})"
   ]
  }
 ],
 "metadata": {
  "kernelspec": {
   "display_name": "Python 2",
   "language": "python",
   "name": "python2"
  },
  "language_info": {
   "codemirror_mode": {
    "name": "ipython",
    "version": 2
   },
   "file_extension": ".py",
   "mimetype": "text/x-python",
   "name": "python",
   "nbconvert_exporter": "python",
   "pygments_lexer": "ipython2",
   "version": "2.7.12"
  }
 },
 "nbformat": 4,
 "nbformat_minor": 0
}
