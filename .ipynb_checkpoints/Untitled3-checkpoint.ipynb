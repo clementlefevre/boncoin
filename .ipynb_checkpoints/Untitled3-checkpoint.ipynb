{
 "cells": [
  {
   "cell_type": "code",
   "execution_count": 2,
   "metadata": {
    "collapsed": true
   },
   "outputs": [],
   "source": [
    "import csv\n",
    "import random"
   ]
  },
  {
   "cell_type": "code",
   "execution_count": 6,
   "metadata": {
    "collapsed": false
   },
   "outputs": [
    {
     "name": "stdout",
     "output_type": "stream",
     "text": [
      "{'ip': '212.47.239.175', 'country': 'FR', 'type': 'http', 'port': '8080', 'level': 'highly anonymous'}\n"
     ]
    }
   ],
   "source": [
    "reader = csv.reader(open('proxies2.csv'),delimiter=\";\")\n",
    "proxies = []\n",
    "for row in reader:\n",
    "   \n",
    "    dicto = {\"ip\":row[0],'port':row[1],'type':row[2],'level':row[3],'country':row[4]}\n",
    "    proxies.append(dicto)\n",
    " \n",
    "print (random.choice(proxies))\n"
   ]
  }
 ],
 "metadata": {
  "kernelspec": {
   "display_name": "Python 2",
   "language": "python",
   "name": "python2"
  },
  "language_info": {
   "codemirror_mode": {
    "name": "ipython",
    "version": 2
   },
   "file_extension": ".py",
   "mimetype": "text/x-python",
   "name": "python",
   "nbconvert_exporter": "python",
   "pygments_lexer": "ipython2",
   "version": "2.7.12"
  }
 },
 "nbformat": 4,
 "nbformat_minor": 0
}
