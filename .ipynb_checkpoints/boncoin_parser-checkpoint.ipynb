{
 "cells": [
  {
   "cell_type": "code",
   "execution_count": 30,
   "metadata": {
    "collapsed": true
   },
   "outputs": [],
   "source": [
    "from bs4 import BeautifulSoup\n",
    "import urllib2\n",
    "import smtplib\n",
    "import sched, time\n",
    "import schedule\n",
    "\n",
    "from email.mime.multipart import MIMEMultipart\n",
    "from email.mime.text import MIMEText"
   ]
  },
  {
   "cell_type": "code",
   "execution_count": 31,
   "metadata": {
    "collapsed": true
   },
   "outputs": [],
   "source": [
    "URL = 'https://www.leboncoin.fr/annonces/offres/ile_de_france/occasions/?q=patek%20philippe%20&it=1'"
   ]
  },
  {
   "cell_type": "code",
   "execution_count": 32,
   "metadata": {
    "collapsed": false
   },
   "outputs": [],
   "source": [
    "def retrieve_description():\n",
    "    html = urllib2.urlopen(URL).read()\n",
    "    soup = BeautifulSoup(html)\n",
    "    \n",
    "    posts = soup.findAll(\"section\", {\"class\": \"tabsContent block-white dontSwitch\"})\n",
    "   \n",
    "    for post in posts:\n",
    "        \n",
    "        a = [x['href'] for x in post.findAll('a')]\n",
    "        print a\n"
   ]
  },
  {
   "cell_type": "code",
   "execution_count": 34,
   "metadata": {
    "collapsed": false
   },
   "outputs": [
    {
     "name": "stdout",
     "output_type": "stream",
     "text": [
      "['//www.leboncoin.fr/montres_bijoux/1005424842.htm?ca=12_s', '//www.leboncoin.fr/montres_bijoux/1004518076.htm?ca=12_s', '//www.leboncoin.fr/montres_bijoux/1003244938.htm?ca=12_s', '//www.leboncoin.fr/montres_bijoux/892763639.htm?ca=12_s', '//www.leboncoin.fr/collection/1002425468.htm?ca=12_s', '//www.leboncoin.fr/montres_bijoux/977424470.htm?ca=12_s', '//www.leboncoin.fr/montres_bijoux/976972656.htm?ca=12_s', '//www.leboncoin.fr/accessoires_bagagerie/744005318.htm?ca=12_s', '//www.leboncoin.fr/livres/946706538.htm?ca=12_s', '//www.leboncoin.fr/accessoires_bagagerie/890618706.htm?ca=12_s', '//www.leboncoin.fr/montres_bijoux/998694806.htm?ca=12_s', '//www.leboncoin.fr/montres_bijoux/998130847.htm?ca=12_s', '//www.leboncoin.fr/montres_bijoux/967613005.htm?ca=12_s', '//www.leboncoin.fr/livres/996933368.htm?ca=12_s', '//www.leboncoin.fr/livres/914063724.htm?ca=12_s', '//www.leboncoin.fr/collection/995904285.htm?ca=12_s', '//www.leboncoin.fr/montres_bijoux/995861217.htm?ca=12_s', '//www.leboncoin.fr/montres_bijoux/911209745.htm?ca=12_s', '//www.leboncoin.fr/montres_bijoux/995545281.htm?ca=12_s', '//www.leboncoin.fr/montres_bijoux/885451958.htm?ca=12_s', '//www.leboncoin.fr/montres_bijoux/967653080.htm?ca=12_s', '//www.leboncoin.fr/collection/993647722.htm?ca=12_s', '//www.leboncoin.fr/montres_bijoux/992541077.htm?ca=12_s', '//www.leboncoin.fr/accessoires_bagagerie/827582907.htm?ca=12_s', '//www.leboncoin.fr/collection/962534307.htm?ca=12_s', '//www.leboncoin.fr/montres_bijoux/990630574.htm?ca=12_s', '//www.leboncoin.fr/montres_bijoux/185374808.htm?ca=12_s', '//www.leboncoin.fr/accessoires_bagagerie/986537704.htm?ca=12_s', '//www.leboncoin.fr/montres_bijoux/985801760.htm?ca=12_s', '//www.leboncoin.fr/montres_bijoux/985193025.htm?ca=12_s', '//www.leboncoin.fr/collection/984700731.htm?ca=12_s', '//www.leboncoin.fr/montres_bijoux/984529385.htm?ca=12_s', '//www.leboncoin.fr/montres_bijoux/984385480.htm?ca=12_s', '//www.leboncoin.fr/accessoires_bagagerie/984112143.htm?ca=12_s', '//www.leboncoin.fr/montres_bijoux/983939785.htm?ca=12_s']\n"
     ]
    }
   ],
   "source": [
    "\n",
    "schedule.every(10).minutes.do(retrieve_description)"
   ]
  },
  {
   "cell_type": "code",
   "execution_count": 35,
   "metadata": {
    "collapsed": true
   },
   "outputs": [],
   "source": [
    "def send_email(body):\n",
    "    pass"
   ]
  },
  {
   "cell_type": "code",
   "execution_count": 36,
   "metadata": {
    "collapsed": false
   },
   "outputs": [
    {
     "ename": "NameError",
     "evalue": "name 'Model' is not defined",
     "output_type": "error",
     "traceback": [
      "\u001b[1;31m---------------------------------------------------------------------------\u001b[0m",
      "\u001b[1;31mNameError\u001b[0m                                 Traceback (most recent call last)",
      "\u001b[1;32m<ipython-input-36-e6fa7abe65ae>\u001b[0m in \u001b[0;36m<module>\u001b[1;34m()\u001b[0m\n\u001b[1;32m----> 1\u001b[1;33m \u001b[1;32mclass\u001b[0m \u001b[0mBonCoinPost\u001b[0m\u001b[1;33m(\u001b[0m\u001b[0mModel\u001b[0m\u001b[1;33m)\u001b[0m\u001b[1;33m:\u001b[0m\u001b[1;33m\u001b[0m\u001b[0m\n\u001b[0m\u001b[0;32m      2\u001b[0m     \u001b[1;32mpass\u001b[0m\u001b[1;33m\u001b[0m\u001b[0m\n",
      "\u001b[1;31mNameError\u001b[0m: name 'Model' is not defined"
     ]
    }
   ],
   "source": [
    "class BonCoinPost():\n",
    "    pass"
   ]
  }
 ],
 "metadata": {
  "kernelspec": {
   "display_name": "Python 2",
   "language": "python",
   "name": "python2"
  },
  "language_info": {
   "codemirror_mode": {
    "name": "ipython",
    "version": 2
   },
   "file_extension": ".py",
   "mimetype": "text/x-python",
   "name": "python",
   "nbconvert_exporter": "python",
   "pygments_lexer": "ipython2",
   "version": "2.7.11"
  }
 },
 "nbformat": 4,
 "nbformat_minor": 0
}
