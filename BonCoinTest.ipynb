{
 "cells": [
  {
   "cell_type": "code",
   "execution_count": 39,
   "metadata": {
    "collapsed": false
   },
   "outputs": [
    {
     "name": "stdout",
     "output_type": "stream",
     "text": [
      "11 000 €\n",
      "Toulon 83000\n",
      "{'post_description': \"PATEK PHILIPPE VINTAGE  OR BLANC 18K AVEC DIAMANTS ANNEE 70  M16REMONTAGE MANUELdimensions 42mm x 33mm x 7mmbracelet cuir neufVERRE SAPHIREMagnifique montre homme ou meme femme selon souhait tr\\xc3\\xa8s rare et introuvable un model comme celle-ci les collectionneurs avertis sauront de quoi je parle je ne suis pas pro mais passionn\\xc3\\xa9 des montres et j'aime bcp changer curieux et fausse adresse mail paypal ou autres passez votre chemince n'est pas ma premi\\xc3\\xa8re vente ou achat car j'en ach\\xc3\\xa8te et en revends tr\\xc3\\xa8s souventtransaction dans un lieu s\\xc3\\xa9curis\\xc3\\xa9 bijouteries ou similaires la vente de contrefa\\xc3\\xa7on est interdite et la montre est authentique EXHANGE POSSIBLE CONTRE ROLEX OU AUDEMARS PIGUET SELON MODELES\", 'post_price': 11000, 'post_title': 'Patek philippe vintage or blanc diamant', 'post_city': u'Toulon', 'post_email_sent': False, 'post_images': '', 'post_url': 'https://www.leboncoin.fr/montres_bijoux/992541077.htm?ca=12_s', 'post_date': 'Mise en ligne le 12 juillet \\xc3\\xa0 18:47', 'post_author': 'pricelesstime', 'post_zip': u'83000'}\n"
     ]
    }
   ],
   "source": [
    "import urllib2\n",
    "from bs4 import BeautifulSoup\n",
    "import re\n",
    "\n",
    "def get_post_data(url):\n",
    "    html = urllib2.urlopen(url).read()\n",
    "    soup = BeautifulSoup(html)\n",
    "\n",
    "    post = {}\n",
    "\n",
    "    post['post_title'] = get_text( soup,\"h1\",{\"class\": \"no-border\"})\n",
    "    post['post_url'] = url\n",
    "    post['post_description'] = get_text(soup, \"p\", {\"class\": \"value\"})\n",
    "    post['post_images'] = \"\"\n",
    "    post['post_date'] = get_text(soup, \"p\", {\"class\": \"line line_pro\"})\n",
    "    post['post_price'] = get_price(soup, \"span\", {\"class\": \"value\"})\n",
    "    post['post_author'] = get_text(soup, \"p\", {\"class\": \"title\"})\n",
    "    post['post_city'], post['post_zip'] = get_adress(soup,\"span\", {\"class\": \"value\", \"itemprop\": \"address\"})\n",
    "    post['post_email_sent'] = False\n",
    "    print post\n",
    "    \n",
    "\n",
    "\n",
    "def get_text(soup,tag,subtags):\n",
    "    element = soup.findAll(tag, subtags)[0]\n",
    "    text = element.get_text().encode('utf-8').lstrip().rstrip()\n",
    "    #print text\n",
    "    return text\n",
    "\n",
    "\n",
    "def get_price(soup, tag, subtags):\n",
    "    text = clean(soup, tag, subtags)\n",
    "    price = re.sub(\"[^0-9]\", \"\", text)\n",
    "    return int(price)\n",
    "\n",
    "def get_adress(soup,tag,subtags):\n",
    "    text = clean(soup, tag, subtags)\n",
    "    city, zip_code = text.split(' ')\n",
    "    return city,zip_code\n",
    "\n",
    "\n",
    "    \n",
    "get_post_data('https://www.leboncoin.fr/montres_bijoux/992541077.htm?ca=12_s')\n"
   ]
  }
 ],
 "metadata": {
  "kernelspec": {
   "display_name": "Python 2",
   "language": "python",
   "name": "python2"
  },
  "language_info": {
   "codemirror_mode": {
    "name": "ipython",
    "version": 2
   },
   "file_extension": ".py",
   "mimetype": "text/x-python",
   "name": "python",
   "nbconvert_exporter": "python",
   "pygments_lexer": "ipython2",
   "version": "2.7.11"
  }
 },
 "nbformat": 4,
 "nbformat_minor": 0
}
