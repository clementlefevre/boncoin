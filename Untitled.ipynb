{
 "cells": [
  {
   "cell_type": "code",
   "execution_count": 5,
   "metadata": {
    "collapsed": false
   },
   "outputs": [],
   "source": [
    "from bs4 import BeautifulSoup\n",
    "\n",
    "\n",
    "import urllib\n",
    "import urllib2\n",
    "import re\n",
    "from datetime import datetime\n",
    "import logging\n",
    "\n",
    "\n",
    "\n",
    "\n",
    "BASE_URL = 'https://www.leboncoin.fr/annonces/offres/ile_de_france/occasions/?q='\n",
    "\n",
    "\n",
    "def retrieve_description(keywords):\n",
    "    url = BASE_URL + urllib.quote(keywords) + \"&it=1\"\n",
    "    print url\n",
    "    html = urllib2.urlopen(url).read()\n",
    "    soup = BeautifulSoup(html, \"html5lib\")\n",
    "    post_raw = []\n",
    "    posts = soup.findAll(\"section\", {\"class\": \"tabsContent block-white dontSwitch\"})\n",
    "    post_raw += [x.find('a') for x in posts[0].findAll('li')]\n",
    "    return post_raw\n",
    "\n",
    "\n",
    "def convert_to_post(raw_posts):\n",
    "    posts = []\n",
    "    for raw_post in raw_posts:\n",
    "        post = {}\n",
    "        url = get_url(raw_post)\n",
    "        if url is None:\n",
    "            continue\n",
    "        post['post_url'] = get_url(raw_post)\n",
    "        post['post_title'] = get_title(raw_post)\n",
    "        post['post_city'] = get_city(raw_post)\n",
    "        post['post_date'] = get_date(raw_post)\n",
    "        post['post_price'] = get_price(raw_post)\n",
    "        post['post_images'] = \"\"\n",
    "        post['post_author'] = \"\"\n",
    "        post['post_zip'] = \"\"\n",
    "        post['post_retrieved_on'] = datetime.now()\n",
    "\n",
    "        post = Post(**post)\n",
    "\n",
    "        posts.append(post)\n",
    "    return posts\n",
    "\n",
    "\n",
    "def get_url(raw_post):\n",
    "    url = 'https://' + raw_post[\"href\"].replace(\"//\", \"\")\n",
    "    return url\n",
    "\n",
    "\n",
    "def get_price(raw_post):\n",
    "    price = raw_post.findAll(\"h3\", {\"class\": \"item_price\"})\n",
    "    if len(price) > 0:\n",
    "        return int(re.sub(\"[^0-9]\", \"\", price[0].get_text()))\n",
    "    else:\n",
    "        return -10\n",
    "\n",
    "\n",
    "def get_date(raw_post):\n",
    "    date = raw_post.findAll(\"p\", {\"class\": \"item_supp\"})[2].get_text().split('/')[0].lstrip().rstrip()\n",
    "    if date is not None:\n",
    "        return date\n",
    "    return \"Not found\"\n",
    "\n",
    "\n",
    "def get_city(raw_post):\n",
    "    city = raw_post.findAll(\"p\", {\"class\": \"item_supp\"})\n",
    "    if len(city) > 1:\n",
    "        city = city[1].get_text().encode(\"utf-8\")\n",
    "        return ' '.join(city.split())\n",
    "    return \"Not found\"\n",
    "\n",
    "\n",
    "def get_title(raw_post):\n",
    "    title = raw_post.findAll(\"h2\", {\"class\": \"item_title\"})[0].get_text().lstrip().rstrip()\n",
    "    if title is not None:\n",
    "        return title.encode(\"utf-8\")\n",
    "    return \"Not found\"\n",
    "\n"
   ]
  },
  {
   "cell_type": "code",
   "execution_count": 6,
   "metadata": {
    "collapsed": false
   },
   "outputs": [
    {
     "name": "stdout",
     "output_type": "stream",
     "text": [
      "https://www.leboncoin.fr/annonces/offres/ile_de_france/occasions/?q=glash%C3%BCtte%20original&it=1\n"
     ]
    },
    {
     "ename": "FeatureNotFound",
     "evalue": "Couldn't find a tree builder with the features you requested: html5lib. Do you need to install a parser library?",
     "output_type": "error",
     "traceback": [
      "\u001b[1;31m---------------------------------------------------------------------------\u001b[0m",
      "\u001b[1;31mFeatureNotFound\u001b[0m                           Traceback (most recent call last)",
      "\u001b[1;32m<ipython-input-6-ce2bffdec8e4>\u001b[0m in \u001b[0;36m<module>\u001b[1;34m()\u001b[0m\n\u001b[1;32m----> 1\u001b[1;33m \u001b[1;32mprint\u001b[0m \u001b[0mretrieve_description\u001b[0m\u001b[1;33m(\u001b[0m\u001b[1;34m\"glashütte original\"\u001b[0m\u001b[1;33m)\u001b[0m\u001b[1;33m\u001b[0m\u001b[0m\n\u001b[0m",
      "\u001b[1;32m<ipython-input-5-f0dc4ef29e89>\u001b[0m in \u001b[0;36mretrieve_description\u001b[1;34m(keywords)\u001b[0m\n\u001b[0;32m     18\u001b[0m     \u001b[1;32mprint\u001b[0m \u001b[0murl\u001b[0m\u001b[1;33m\u001b[0m\u001b[0m\n\u001b[0;32m     19\u001b[0m     \u001b[0mhtml\u001b[0m \u001b[1;33m=\u001b[0m \u001b[0murllib2\u001b[0m\u001b[1;33m.\u001b[0m\u001b[0murlopen\u001b[0m\u001b[1;33m(\u001b[0m\u001b[0murl\u001b[0m\u001b[1;33m)\u001b[0m\u001b[1;33m.\u001b[0m\u001b[0mread\u001b[0m\u001b[1;33m(\u001b[0m\u001b[1;33m)\u001b[0m\u001b[1;33m\u001b[0m\u001b[0m\n\u001b[1;32m---> 20\u001b[1;33m     \u001b[0msoup\u001b[0m \u001b[1;33m=\u001b[0m \u001b[0mBeautifulSoup\u001b[0m\u001b[1;33m(\u001b[0m\u001b[0mhtml\u001b[0m\u001b[1;33m,\u001b[0m \u001b[1;34m\"html5lib\"\u001b[0m\u001b[1;33m)\u001b[0m\u001b[1;33m\u001b[0m\u001b[0m\n\u001b[0m\u001b[0;32m     21\u001b[0m     \u001b[0mpost_raw\u001b[0m \u001b[1;33m=\u001b[0m \u001b[1;33m[\u001b[0m\u001b[1;33m]\u001b[0m\u001b[1;33m\u001b[0m\u001b[0m\n\u001b[0;32m     22\u001b[0m     \u001b[0mposts\u001b[0m \u001b[1;33m=\u001b[0m \u001b[0msoup\u001b[0m\u001b[1;33m.\u001b[0m\u001b[0mfindAll\u001b[0m\u001b[1;33m(\u001b[0m\u001b[1;34m\"section\"\u001b[0m\u001b[1;33m,\u001b[0m \u001b[1;33m{\u001b[0m\u001b[1;34m\"class\"\u001b[0m\u001b[1;33m:\u001b[0m \u001b[1;34m\"tabsContent block-white dontSwitch\"\u001b[0m\u001b[1;33m}\u001b[0m\u001b[1;33m)\u001b[0m\u001b[1;33m\u001b[0m\u001b[0m\n",
      "\u001b[1;32m/home/ramon/anaconda2/lib/python2.7/site-packages/bs4/__init__.pyc\u001b[0m in \u001b[0;36m__init__\u001b[1;34m(self, markup, features, builder, parse_only, from_encoding, exclude_encodings, **kwargs)\u001b[0m\n\u001b[0;32m    154\u001b[0m                     \u001b[1;34m\"Couldn't find a tree builder with the features you \"\u001b[0m\u001b[1;33m\u001b[0m\u001b[0m\n\u001b[0;32m    155\u001b[0m                     \u001b[1;34m\"requested: %s. Do you need to install a parser library?\"\u001b[0m\u001b[1;33m\u001b[0m\u001b[0m\n\u001b[1;32m--> 156\u001b[1;33m                     % \",\".join(features))\n\u001b[0m\u001b[0;32m    157\u001b[0m             \u001b[0mbuilder\u001b[0m \u001b[1;33m=\u001b[0m \u001b[0mbuilder_class\u001b[0m\u001b[1;33m(\u001b[0m\u001b[1;33m)\u001b[0m\u001b[1;33m\u001b[0m\u001b[0m\n\u001b[0;32m    158\u001b[0m             if not (original_features == builder.NAME or\n",
      "\u001b[1;31mFeatureNotFound\u001b[0m: Couldn't find a tree builder with the features you requested: html5lib. Do you need to install a parser library?"
     ]
    }
   ],
   "source": [
    "print retrieve_description(\"glashütte original\")"
   ]
  }
 ],
 "metadata": {
  "kernelspec": {
   "display_name": "Python 2",
   "language": "python",
   "name": "python2"
  },
  "language_info": {
   "codemirror_mode": {
    "name": "ipython",
    "version": 2
   },
   "file_extension": ".py",
   "mimetype": "text/x-python",
   "name": "python",
   "nbconvert_exporter": "python",
   "pygments_lexer": "ipython2",
   "version": "2.7.12"
  }
 },
 "nbformat": 4,
 "nbformat_minor": 0
}
