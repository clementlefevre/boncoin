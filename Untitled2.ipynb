{
 "cells": [
  {
   "cell_type": "code",
   "execution_count": 22,
   "metadata": {
    "collapsed": false
   },
   "outputs": [
    {
     "name": "stdout",
     "output_type": "stream",
     "text": [
      "response length:143295\n",
      "[<p class=\"mbs\">Aucune annonce trouv\\xe9e !</p>]\n"
     ]
    }
   ],
   "source": [
    "import urllib2\n",
    "import re\n",
    "from datetime import datetime\n",
    "\n",
    "from bs4 import BeautifulSoup\n",
    "from requests.utils import quote\n",
    "\n",
    "request = urllib2.urlopen(\"https://www.leboncoin.fr/annonces/offres/ile_de_france/occasions/?q=lecoultre%20chronom%C3%A8tre&it=1\")\n",
    "\n",
    "response = \"\"\n",
    "charset = \"windows-1252\"\n",
    "while 1:\n",
    "    data = request.read()\n",
    "    if not data:  # This might need to be    if data == \"\":   -- can't remember\n",
    "        break\n",
    "    response += data\n",
    "    # Check the encoding of the page before reading it\n",
    "    charset = request.headers['content-type'].split('charset=')[-1]\n",
    "\n",
    "html = response.decode(charset)\n",
    "\n",
    "\n",
    "print \"response length:{}\".format(len(response))\n",
    "soup = BeautifulSoup(html)\n",
    "\n",
    "posts = soup.findAll(\"section\", {\"class\": \"content-center\"})\n",
    "columns = soup.findAll('p', text = re.compile('Aucune annonce trouv'), attrs = {'class' : 'mbs'})\n",
    "print columns\n"
   ]
  }
 ],
 "metadata": {
  "kernelspec": {
   "display_name": "Python 2",
   "language": "python",
   "name": "python2"
  },
  "language_info": {
   "codemirror_mode": {
    "name": "ipython",
    "version": 2
   },
   "file_extension": ".py",
   "mimetype": "text/x-python",
   "name": "python",
   "nbconvert_exporter": "python",
   "pygments_lexer": "ipython2",
   "version": "2.7.12"
  }
 },
 "nbformat": 4,
 "nbformat_minor": 0
}
