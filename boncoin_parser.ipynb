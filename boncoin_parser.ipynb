{
 "cells": [
  {
   "cell_type": "code",
   "execution_count": 86,
   "metadata": {},
   "outputs": [],
   "source": [
    "from bs4 import BeautifulSoup\n",
    "import urllib2\n",
    "import re"
   ]
  },
  {
   "cell_type": "code",
   "execution_count": 2,
   "metadata": {},
   "outputs": [],
   "source": [
    "URL = 'https://www.leboncoin.fr/annonces/offres/ile_de_france/occasions/?q=patek%20philippe%20&it=1'"
   ]
  },
  {
   "cell_type": "code",
   "execution_count": 73,
   "metadata": {},
   "outputs": [],
   "source": [
    "def retrieve_description():\n",
    "    html = urllib2.urlopen(URL).read()\n",
    "    soup = BeautifulSoup(html, \"lxml\")\n",
    "    a =[]\n",
    "    posts = soup.findAll(\"section\", {\"class\": \"tabsContent block-white dontSwitch\"})\n",
    "    print len(posts)\n",
    "   \n",
    "        \n",
    "    a +=[x.find('a') for x in posts[0].findAll('li')]\n",
    "    return a\n",
    "\n",
    "def get_text(soup, tag, subtags):\n",
    "    element = soup.findAll(tag, subtags)[0]\n",
    "    text = element.get_text().encode('utf8').lstrip().rstrip()\n",
    "    uni = unicode(text, \"utf-8\")\n",
    "    return uni"
   ]
  },
  {
   "cell_type": "code",
   "execution_count": 67,
   "metadata": {},
   "outputs": [
    {
     "name": "stdout",
     "output_type": "stream",
     "text": [
      "1\n"
     ]
    }
   ],
   "source": [
    "a = retrieve_description()"
   ]
  },
  {
   "cell_type": "code",
   "execution_count": 68,
   "metadata": {},
   "outputs": [
    {
     "data": {
      "text/plain": [
       "<a class=\"list_item clearfix trackable\" data-info='{\"event_type\" : \"selfpromotion\", \"campaign\" : \"ad_search\", \"ad_listid\" : \"984385480\", \"ad_location\" : \"list_content\", \"ad_position\" : \"1\", \"ad_type\" : \"offres\", \"ad_offres\" : \"part\"}' href=\"//www.leboncoin.fr/montres_bijoux/984385480.htm?ca=12_s\" title=\"Etui cuir Patek Philippe\">\\n<!-- Listing item image -->\\n<div class=\"item_image\">\\n<span class=\"item_imagePic\">\\n<span class=\"lazyload\" data-imgalt=\"Etui cuir Patek Philippe\" data-imgsrc=\"//img5.leboncoin.fr/thumbs/803/803e0418b1703262d75c3120cbb30638b72a852a.jpg\" style=\"display:block; width:100%; height:100%;\"></span>\\n</span>\\n<span class=\"item_imageNumber\">\\n<i class=\"icon-camera icon-2x nomargin\"></i>\\n<span>3</span>\\n</span>\\n</div>\\n<!-- Listing item info -->\\n<section class=\"item_infos\">\\n<h2 class=\"item_title\">\\n                            \\tEtui cuir Patek Philippe\\n                                \\n                            \\t\\n\\t\\t\\t\\t\\t\\t\\t</h2>\\n<p class=\"item_supp\">\\n                            \\t\\n                                \\n                            \\t\\tMontres &amp; Bijoux\\n                                \\n                        \\t</p>\\n<p class=\"item_supp\">\\n                            \\t\\n                                    \\n                                        \\n                                    \\n                                    \\n                                    \\n                                        Reims\\n                                        \\n                                            /\\n                                        \\n                                    \\n                                    \\n                                        Marne\\n\\t\\t\\t\\t\\t\\t\\t\\t\\t\\t\\t\\t\\t\\t\\t\\t\\t\\n                                \\n                            </p>\\n<h3 class=\"item_price\">\\n                                            120\\xa0\\u20ac\\n                                            \\n                                        </h3>\\n<aside class=\"item_absolute\">\\n<p class=\"item_supp\">\\n\\t\\t                            \\n\\t\\t                            Aujourd'hui, 10:06\\n\\t                            </p>\\n</aside>\\n</section>\\n</a>"
      ]
     },
     "execution_count": 68,
     "output_type": "execute_result",
     "metadata": {}
    }
   ],
   "source": [
    "a[0]"
   ]
  },
  {
   "cell_type": "code",
   "execution_count": 107,
   "metadata": {},
   "outputs": [
    {
     "name": "stdout",
     "output_type": "stream",
     "text": [
      "//www.leboncoin.fr/montres_bijoux/984385480.htm?ca=12_s\n",
      "Etui cuir Patek Philippe\n",
      "Reims\n",
      "Marne\n",
      "Aujourd'hui, 10:06\n",
      "120\n"
     ]
    }
   ],
   "source": [
    "print a[0][\"href\"]\n",
    "print a[0].findAll(\"h2\" ,{\"class\": \"item_title\"})[0].get_text().lstrip().rstrip()\n",
    "\n",
    "print a[0].findAll(\"p\",{\"class\": \"item_supp\"})[1].get_text().split('/')[0].lstrip().rstrip()\n",
    "print a[0].findAll(\"p\",{\"class\": \"item_supp\"})[1].get_text().split('/')[1].lstrip().rstrip()\n",
    "print a[0].findAll(\"p\",{\"class\": \"item_supp\"})[2].get_text().split('/')[0].lstrip().rstrip()\n",
    "price =  a[0].findAll(\"h3\",{\"class\": \"item_price\"})[0].get_text()\n",
    "print int(re.sub(\"[^0-9]\", \"\", price))"
   ]
  },
  {
   "cell_type": "code",
   "execution_count": null,
   "metadata": {},
   "outputs": [],
   "source": [
    ""
   ]
  },
  {
   "cell_type": "code",
   "execution_count": null,
   "metadata": {},
   "outputs": [],
   "source": [
    ""
   ]
  },
  {
   "cell_type": "code",
   "execution_count": null,
   "metadata": {},
   "outputs": [],
   "source": [
    "def send_email(body):\n",
    "    pass"
   ]
  },
  {
   "cell_type": "code",
   "execution_count": null,
   "metadata": {},
   "outputs": [],
   "source": [
    "class BonCoinPost():\n",
    "    pass"
   ]
  }
 ],
 "metadata": {
  "kernelspec": {
   "display_name": "Python 2",
   "language": "python",
   "name": "python2"
  },
  "language_info": {
   "codemirror_mode": {
    "name": "ipython",
    "version": 2.0
   },
   "file_extension": ".py",
   "mimetype": "text/x-python",
   "name": "python",
   "nbconvert_exporter": "python",
   "pygments_lexer": "ipython2",
   "version": "2.7.12"
  }
 },
 "nbformat": 4,
 "nbformat_minor": 0
}